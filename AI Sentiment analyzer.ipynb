{
 "cells": [
  {
   "cell_type": "code",
   "execution_count": 2,
   "id": "9c475bad",
   "metadata": {},
   "outputs": [],
   "source": [
    "import pandas as pd\n",
    "import numpy as np\n",
    "import nltk\n",
    "from nltk.corpus import stopwords\n",
    "from nltk.tokenize import word_tokenize\n",
    "from sklearn.feature_extraction.text import CountVectorizer, TfidfVectorizer\n",
    "from sklearn.naive_bayes import MultinomialNB\n",
    "from sklearn.svm import SVC\n",
    "from sklearn.linear_model import LogisticRegression\n",
    "from sklearn.metrics import accuracy_score, precision_score, recall_score\n",
    "from sklearn.model_selection import train_test_split\n",
    "from sklearn.svm import LinearSVC\n",
    "from sklearn.linear_model import LogisticRegression\n",
    "from sklearn.metrics import accuracy_score, precision_score, recall_score"
   ]
  },
  {
   "cell_type": "code",
   "execution_count": 3,
   "id": "262fbe9b",
   "metadata": {},
   "outputs": [],
   "source": [
    "import pandas as pd\n",
    "import re\n",
    "from nltk.corpus import stopwords\n",
    "from nltk.tokenize import word_tokenize\n",
    "\n",
    "# Define function to preprocess the text\n",
    "stop_words = set(stopwords.words('english'))\n",
    "\n",
    "def preprocess_text(text):\n",
    "    \n",
    "    # Convert the text to lowercase\n",
    "    text = text.lower()\n",
    "    \n",
    "    # Tokenize the text into words\n",
    "    words = word_tokenize(text)\n",
    "    \n",
    "    # Remove stop words and non-alphabetic characters\n",
    "    words = [w for w in words if not w in stop_words and w.isalpha()]\n",
    "    \n",
    "    # Join the words back into a string\n",
    "    text = ' '.join(words)\n",
    "    \n",
    "    return text\n",
    "\n",
    "# Load the dataset\n",
    "data = pd.read_csv('Data.csv')\n",
    "\n",
    "# Apply the preprocess_text function to the 'text' column\n",
    "data['comments'] = data['comments'].apply(preprocess_text)\n",
    "\n",
    "# Save the preprocessed data to a new CSV file\n",
    "data.to_csv('processed_data.csv', index=False)\n"
   ]
  },
  {
   "cell_type": "code",
   "execution_count": 4,
   "id": "2b349757",
   "metadata": {},
   "outputs": [
    {
     "name": "stdout",
     "output_type": "stream",
     "text": [
      "Naïve Bayes accuracy:  0.6618556701030928\n",
      "Naïve Bayes precision:  0.6615259552585427\n",
      "Naïve Bayes recall:  0.6672170014732309\n"
     ]
    }
   ],
   "source": [
    "# Split the data into training and testing sets\n",
    "train_data, test_data = train_test_split(data, test_size=0.2, random_state=42)\n",
    "\n",
    "# Convert the comments into feature vectors using CountVectorizer\n",
    "vectorizer = CountVectorizer()\n",
    "train_vectors = vectorizer.fit_transform(train_data['comments'])\n",
    "test_vectors = vectorizer.transform(test_data['comments'])\n",
    "\n",
    "# Train the Naïve Bayes model\n",
    "nb = MultinomialNB()\n",
    "nb.fit(train_vectors, train_data['sentiments'])\n",
    "\n",
    "# Make predictions on the testing set\n",
    "nb_predictions = nb.predict(test_vectors)\n",
    "\n",
    "# Evaluate the Naïve Bayes model's performance\n",
    "nb_accuracy = accuracy_score(test_data['sentiments'], nb_predictions)\n",
    "nb_precision = precision_score(test_data['sentiments'], nb_predictions, average='macro')\n",
    "nb_recall = recall_score(test_data['sentiments'], nb_predictions, average='macro')\n",
    "\n",
    "print('Naïve Bayes accuracy: ', nb_accuracy)\n",
    "print('Naïve Bayes precision: ', nb_precision)\n",
    "print('Naïve Bayes recall: ', nb_recall)\n",
    "\n",
    "\n"
   ]
  },
  {
   "cell_type": "code",
   "execution_count": 5,
   "id": "ea8b0516",
   "metadata": {},
   "outputs": [
    {
     "name": "stdout",
     "output_type": "stream",
     "text": [
      "Support Vector Machine accuracy:  0.7061855670103093\n",
      "Support Vector Machine precision:  0.7078400648773561\n",
      "Support Vector Machine recall:  0.7111974358387648\n"
     ]
    }
   ],
   "source": [
    "# Convert the comments into feature vectors using TF-IDF vectorizer\n",
    "tfidf_vectorizer = TfidfVectorizer()\n",
    "train_tfidf_vectors = tfidf_vectorizer.fit_transform(train_data['comments'])\n",
    "test_tfidf_vectors = tfidf_vectorizer.transform(test_data['comments'])\n",
    "\n",
    "# Train the Support Vector Machine model\n",
    "svm = LinearSVC()\n",
    "svm.fit(train_tfidf_vectors, train_data['sentiments'])\n",
    "\n",
    "# Make predictions on the testing set\n",
    "svm_predictions = svm.predict(test_tfidf_vectors)\n",
    "\n",
    "# Evaluate the Support Vector Machine model's performance\n",
    "svm_accuracy = accuracy_score(test_data['sentiments'], svm_predictions)\n",
    "svm_precision = precision_score(test_data['sentiments'], svm_predictions, average='macro')\n",
    "svm_recall = recall_score(test_data['sentiments'], svm_predictions, average='macro')\n",
    "\n",
    "print('Support Vector Machine accuracy: ', svm_accuracy)\n",
    "print('Support Vector Machine precision: ', svm_precision)\n",
    "print('Support Vector Machine recall: ', svm_recall)\n",
    "\n"
   ]
  },
  {
   "cell_type": "code",
   "execution_count": 6,
   "id": "628731d5",
   "metadata": {},
   "outputs": [
    {
     "name": "stdout",
     "output_type": "stream",
     "text": [
      "Logistic Regression accuracy:  0.6927835051546392\n",
      "Logistic Regression precision:  0.6983958196638724\n",
      "Logistic Regression recall:  0.6943004558156837\n"
     ]
    }
   ],
   "source": [
    "# Train the Logistic Regression model\n",
    "lr = LogisticRegression()\n",
    "lr.fit(train_tfidf_vectors, train_data['sentiments'])\n",
    "\n",
    "# Make predictions on the testing set\n",
    "lr_predictions = lr.predict(test_tfidf_vectors)\n",
    "\n",
    "# Evaluate the Logistic Regression model's performance\n",
    "lr_accuracy = accuracy_score(test_data['sentiments'], lr_predictions)\n",
    "lr_precision = precision_score(test_data['sentiments'], lr_predictions, average='macro')\n",
    "lr_recall = recall_score(test_data['sentiments'], lr_predictions, average='macro')\n",
    "\n",
    "print('Logistic Regression accuracy: ', lr_accuracy)\n",
    "print('Logistic Regression precision: ', lr_precision)\n",
    "print('Logistic Regression recall: ', lr_recall)"
   ]
  },
  {
   "cell_type": "code",
   "execution_count": null,
   "id": "4adfb0af",
   "metadata": {},
   "outputs": [
    {
     "name": "stdout",
     "output_type": "stream",
     "text": [
      "Enter your comment: how are you ?\n",
      "Predicted sentiment: neutral\n",
      "Enter your comment: hello there\n",
      "Predicted sentiment: positive\n",
      "Enter your comment: are you stupid\n",
      "Predicted sentiment: negative\n",
      "Enter your comment: there is nothing in the bag \n",
      "Predicted sentiment: neutral\n",
      "Enter your comment: good job well done\n",
      "Predicted sentiment: positive\n",
      "Enter your comment: he got a good grade\n",
      "Predicted sentiment: positive\n",
      "Enter your comment: netx time we visit a local church\n",
      "Predicted sentiment: positive\n",
      "Enter your comment: he burnt his arm\n",
      "Predicted sentiment: negative\n",
      "Enter your comment: there are terrorists at the superemarkets\n",
      "Predicted sentiment: negative\n",
      "Enter your comment: netflix is an amazing company\n",
      "Predicted sentiment: positive\n",
      "Enter your comment: I love netflix\n",
      "Predicted sentiment: positive\n"
     ]
    }
   ],
   "source": [
    "while True:\n",
    "        comment = input('Enter your comment: ')\n",
    "        if comment == 'quit':\n",
    "            break\n",
    "        # Convert the user input into a feature vector using the same TF-IDF vectorizer\n",
    "        user_vector = tfidf_vectorizer.transform([comment])\n",
    "\n",
    "        # Make a prediction using the trained Logistic Regression model\n",
    "        prediction = lr.predict(user_vector)[0]\n",
    "\n",
    "        # Print the predicted sentiment\n",
    "        print('Predicted sentiment:', prediction)"
   ]
  },
  {
   "cell_type": "code",
   "execution_count": null,
   "id": "3ea53c77",
   "metadata": {},
   "outputs": [],
   "source": []
  }
 ],
 "metadata": {
  "kernelspec": {
   "display_name": "Python 3 (ipykernel)",
   "language": "python",
   "name": "python3"
  },
  "language_info": {
   "codemirror_mode": {
    "name": "ipython",
    "version": 3
   },
   "file_extension": ".py",
   "mimetype": "text/x-python",
   "name": "python",
   "nbconvert_exporter": "python",
   "pygments_lexer": "ipython3",
   "version": "3.9.13"
  }
 },
 "nbformat": 4,
 "nbformat_minor": 5
}
